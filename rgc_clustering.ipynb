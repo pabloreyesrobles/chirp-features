{
 "cells": [
  {
   "cell_type": "code",
   "execution_count": 1,
   "id": "91e20dfe",
   "metadata": {
    "scrolled": false
   },
   "outputs": [],
   "source": [
    "from configparser import ConfigParser, ExtendedInterpolation\n",
    "\n",
    "import scipy.io\n",
    "import h5py\n",
    "import numpy as np\n",
    "import matplotlib.pyplot as plt\n",
    "import matplotlib.colors as colors\n",
    "import pandas as pd\n",
    "import seaborn as sns\n",
    "import pyspike\n",
    "import os\n",
    "import joblib\n",
    "\n",
    "import multiprocessing as mp\n",
    "\n",
    "from ipywidgets import IntSlider, interact, Dropdown, fixed\n",
    "from spikelib import spiketools as spkt\n",
    "\n",
    "import scipy.cluster as cluster\n",
    "import scipy.spatial.distance as distance\n",
    "from scipy.spatial.distance import squareform\n",
    "import sklearn.metrics.cluster as metrics\n",
    "from sklearn.metrics import confusion_matrix\n",
    "from sklearn.manifold import TSNE\n",
    "\n",
    "from tqdm import tqdm\n",
    "from chirp import get_chirp_subevents\n",
    "import json\n",
    "\n",
    "%matplotlib inline\n",
    "config = ConfigParser(interpolation=ExtendedInterpolation())"
   ]
  },
  {
   "cell_type": "code",
   "execution_count": 2,
   "id": "3dcf7609",
   "metadata": {},
   "outputs": [],
   "source": [
    "rootdir = os.getcwd()\n",
    "with open(\"params.json\") as p:\n",
    "    params = json.load(p)\n",
    "    \n",
    "# Create output folder if it does not exist\n",
    "if os.path.isdir(params['Output']) == False:\n",
    "    os.mkdir(params['Output'])"
   ]
  },
  {
   "cell_type": "code",
   "execution_count": 8,
   "id": "251cd4c1",
   "metadata": {
    "scrolled": false
   },
   "outputs": [
    {
     "name": "stdout",
     "output_type": "stream",
     "text": [
      "162 cells below minimum spikes constraint.\n",
      "295 cells valid for MR-0309\n",
      "\n",
      "Total cells for clustering: 295\n"
     ]
    }
   ],
   "source": [
    "exp_unit = []\n",
    "spiketimes = []\n",
    "chirp_psth = []\n",
    "flash_psth = []\n",
    "\n",
    "for exp_path in params['Experiments']:\n",
    "    os.chdir(exp_path)\n",
    "    cfg_file = 'config.ini'\n",
    "    config.read(cfg_file)\n",
    "    \n",
    "    config.set('PROJECT', 'path', '{}/'.format(os.getcwd()))\n",
    "    with open(cfg_file, 'w+') as configfile:\n",
    "        config.write(configfile)\n",
    "    config.read(cfg_file)\n",
    "\n",
    "    os.chdir(rootdir)\n",
    "    exp_path = config['PROJECT']['path']\n",
    "    exp = config['EXP']['name']\n",
    "    sorting_file = config['FILES']['sorting']\n",
    "    sync_file = config['SYNC']['events']\n",
    "    start_end_path = config['SYNC']['frametime']\n",
    "    repeated_path = config['SYNC']['repeated']\n",
    "    sub_events_path = os.path.join(config['SYNC']['folder'],\n",
    "                               'sub_event_list_{}_chirp.csv'.format(exp))\n",
    "    output_features = os.path.join(config['SYNC']['folder'],\n",
    "                                   'chirp_features_{}.csv'.format(exp))\n",
    "\n",
    "    sorting = config['FILES']['sorting']\n",
    "    \n",
    "    names = ['ON', 'OFF', 'adap_0', 'FREQ', 'FREQ_FAST','adap_1', 'AMP', 'adap_2']\n",
    "#     times = [3, 3, 2, 15, 2, 8, 2]\n",
    "    times = [3, 3, 2, 5, 10, 2, 8, 2] # WARNING: freq time modded\n",
    "    #Colors\n",
    "    events = pd.read_csv(sync_file)  \n",
    "    \n",
    "    sr = 20000.0 / 1000.0  \n",
    "    fields_df = ['start_event', 'end_event']\n",
    "    \n",
    "    col_mask = events['protocol_name'] == 'flash'\n",
    "\n",
    "    blue_mask = col_mask & (events['extra_description'] == 'blue')\n",
    "    green_mask = col_mask & (events['extra_description'] == 'green')\n",
    "\n",
    "    blue_time = np.array(events[blue_mask][fields_df]) / sr\n",
    "    green_time = np.array(events[green_mask][fields_df]) / sr\n",
    "\n",
    "    blue_dur = np.max(np.array(events[blue_mask]['event_duration']).reshape(21, 1) / sr)\n",
    "    green_dur = np.max(np.array(events[green_mask]['event_duration']).reshape(21, 1) / sr)\n",
    "    color_dur = blue_dur + green_dur\n",
    "    \n",
    "    # May be errors while processing due invalid files\n",
    "    events = get_chirp_subevents(sync_file, start_end_path, repeated_path, sub_events_path, names, times)\n",
    "    if isinstance(events, pd.DataFrame) is not True:\n",
    "        print('Error computing chirp sub events')\n",
    "        continue\n",
    "    \n",
    "\n",
    "    # Full field chirp\n",
    "#     events = pd.read_csv(sync_file)\n",
    "#     chirp_mask = events['protocol_name'] == 'chirp'\n",
    "#     bound_time = np.array(events[chirp_mask][fields_df]) / sr\n",
    "    \n",
    "    # Segmented chirp\n",
    "#     events = pd.read_csv(sub_events_path, sep=';')\n",
    "\n",
    "    chirp_mask = events['protocol_name'] == 'chirp'\n",
    "\n",
    "    mask_on = (events['extra_description'] == 'ON') & chirp_mask\n",
    "    mask_off = (events['extra_description'] == 'OFF') & chirp_mask\n",
    "    mask_freq = (events['extra_description'] == 'FREQ') & chirp_mask\n",
    "    mask_adap1 = (events['extra_description'] == 'adap_1') & chirp_mask\n",
    "    mask_amp = (events['extra_description'] == 'AMP') & chirp_mask\n",
    "    mask_adap2 = (events['extra_description'] == 'adap_2') & chirp_mask # Using as final chirp times and for amplitude mod\n",
    "\n",
    "    on_time = np.array(events[mask_on][fields_df]) / sr\n",
    "    off_time = np.array(events[mask_off][fields_df]) / sr\n",
    "    freq_time = np.array(events[mask_freq][fields_df]) / sr\n",
    "    adap1_time = np.array(events[mask_adap1][fields_df]) / sr\n",
    "    amp_time = np.array(events[mask_amp][fields_df]) / sr\n",
    "    adap2_time = np.array(events[mask_adap2][fields_df]) / sr # adap times after amplitude modulation\n",
    "\n",
    "#     bound_time = np.array(events[chirp_mask][fields_df]) / sr\n",
    "    bound_time = np.array([freq_time[:, 0], adap2_time[:, 1]]).T\n",
    "    flash_bound = np.array([on_time[:, 0], off_time[:, 1]]).T / 1000\n",
    "\n",
    "#     chirp_dur = np.mean(np.diff(bound_time, axis=1))\n",
    "    chirp_dur = 35+6\n",
    "    \n",
    "    def format_to_pyspike(trials, stim_dur):\n",
    "        st = []\n",
    "        for t in trials:\n",
    "            st.append(pyspike.SpikeTrain(t, stim_dur))\n",
    "        return st\n",
    "\n",
    "    psth_bin = 0.06  # In sec\n",
    "    fit_resolution = 0.001  # In sec\n",
    "\n",
    "    chirp_time = np.linspace(0, chirp_dur, int(np.ceil((chirp_dur) / fit_resolution)))\n",
    "    chirp_bins = np.linspace(0, chirp_dur, int(np.ceil((chirp_dur) / psth_bin)))\n",
    "    \n",
    "    flash_dur = 6\n",
    "    flash_time = np.linspace(0, flash_dur, int(np.ceil((flash_dur) / fit_resolution)))\n",
    "    flash_bins = np.linspace(0, flash_dur, int(np.ceil((flash_dur) / psth_bin)))\n",
    "    \n",
    "    filtered_cells = 0\n",
    "\n",
    "    with h5py.File(sorting, 'r') as spks:\n",
    "        idxs = list(spks['spiketimes'].keys())\n",
    "        uidx = ['Unit_{:04d}'.format(int(i.split('_')[1]) + 1) for i in idxs]\n",
    "        \n",
    "        for i, idx in enumerate(idxs):\n",
    "#             trials = spkt.get_trials(np.unique(spks['spiketimes'][idx][:].flatten() / sr), bound_time[:, 0], bound_time[:, 1])\n",
    "            \n",
    "            trials = []\n",
    "            sec_trials = []\n",
    "#             freq_trials = spkt.get_trials(np.unique(spks['spiketimes'][idx][:].flatten() / sr), on_time[:, 0], freq_time[:, 1])\n",
    "#             amp_trials = spkt.get_trials(np.unique(spks['spiketimes'][idx][:].flatten() / sr), adap1_time[:, 0], adap2_time[:, 1]) \n",
    "\n",
    "            chirp_trials = spkt.get_trials(np.unique(spks['spiketimes'][idx][:].flatten() / sr), on_time[:, 0], adap2_time[:, 1])\n",
    "            blue_trials = spkt.get_trials(np.unique(spks['spiketimes'][idx][:].flatten() / sr), blue_time[:, 0], blue_time[:, 1])\n",
    "            green_trials = spkt.get_trials(np.unique(spks['spiketimes'][idx][:].flatten() / sr), green_time[:, 0], green_time[:, 1])\n",
    "            \n",
    "#             trials = np.concatenate([blue_trials, green_trials + blue_dur, chirp_trials + color_dur], axis=1)\n",
    "            \n",
    "            #cflash_trials = np.concatenate([blue_trials, (green_trials + blue_dur)])\n",
    "            for (b, g, c) in zip(blue_trials, green_trials, chirp_trials):\n",
    "#                 t = np.concatenate([b, g + blue_dur, f+color_dur, a + color_dur+ 13100])\n",
    "                t = np.concatenate([b, g + blue_dur, c + color_dur])\n",
    "                trials.append(t)\n",
    "                sec_trials.append(t / 1000)\n",
    "                \n",
    "                m = np.zeros_like(t, dtype=bool)\n",
    "                m[np.unique(t, return_index=True)[1]] = True\n",
    "                if t[~m].shape[0] > 0:\n",
    "                    print(t[~m])\n",
    "\n",
    "            low_spikes = False\n",
    "            for t in trials:\n",
    "                if t.shape[0] < 10:\n",
    "                    low_spikes = True\n",
    "                    break        \n",
    "            if low_spikes:\n",
    "                filtered_cells += 1\n",
    "                continue\n",
    "            \n",
    "            spikes_chirp = spkt.flatten_trials(sec_trials)\n",
    "            (psth, _) = np.histogram(spikes_chirp, bins=chirp_bins)\n",
    "            chirp_resp = spkt.est_pdf(sec_trials, chirp_time, bandwidth=psth_bin, norm_factor=psth.max())\n",
    "            \n",
    "            exp_unit.append((exp, uidx[i], idx))\n",
    "            spiketimes.append(np.asarray(format_to_pyspike(trials, (chirp_dur) * 1000), dtype=object))\n",
    "            chirp_psth.append(chirp_resp)\n",
    "            \n",
    "            # Flash signal for plotting later\n",
    "            trials = spkt.get_trials(np.unique(spks['spiketimes'][idx][:].flatten() / sr) / 1000, flash_bound[:, 0], flash_bound[:, 1])\n",
    "            spikes_flash = spkt.flatten_trials(trials)\n",
    "            (psth, _) = np.histogram(spikes_flash, bins=flash_bins)\n",
    "            flash_resp = spkt.est_pdf(trials, flash_time, bandwidth=psth_bin, norm_factor=psth.max())\n",
    "            flash_psth.append(flash_resp)\n",
    "    \n",
    "    print('{} cells below minimum spikes constraint.'.format(filtered_cells))\n",
    "    print('{} cells valid for {}\\n'.format(len(uidx) - filtered_cells, exp))\n",
    "\n",
    "chirp_psth = np.asarray(chirp_psth)\n",
    "flash_psth = np.asarray(flash_psth)\n",
    "print('Total cells for clustering: {}'.format(len(exp_unit)))"
   ]
  },
  {
   "cell_type": "code",
   "execution_count": 9,
   "id": "22fce6b1",
   "metadata": {},
   "outputs": [
    {
     "data": {
      "text/plain": [
       "48"
      ]
     },
     "execution_count": 9,
     "metadata": {},
     "output_type": "execute_result"
    }
   ],
   "source": [
    "os.cpu_count()"
   ]
  },
  {
   "cell_type": "code",
   "execution_count": 10,
   "id": "a7d77e9b",
   "metadata": {},
   "outputs": [
    {
     "name": "stdout",
     "output_type": "stream",
     "text": [
      "../results/color_resp/clust_MR-0309\n"
     ]
    }
   ],
   "source": [
    "import shutil\n",
    "\n",
    "cls_folder = '{}color_resp/clust_{}'.format(params['Output'],exp)\n",
    "#cls_folder = '{}clust_exps'.format(params['Output'])\n",
    "print(cls_folder)\n",
    "\n",
    "if os.path.isdir(cls_folder) == False:\n",
    "    os.mkdir(cls_folder)\n",
    "else:\n",
    "    shutil.rmtree(cls_folder)\n",
    "    os.mkdir(cls_folder)"
   ]
  },
  {
   "cell_type": "code",
   "execution_count": 11,
   "id": "904b7189",
   "metadata": {},
   "outputs": [],
   "source": [
    "from pyspike.cython.python_backend import spike_distance_python\n",
    "from pyspike.cython.python_backend import isi_distance_python\n",
    "def compute_SPIKE_on_flat_pair_2(arg):\n",
    "    sti, stj=arg\n",
    "    assert sti.shape[0] == stj.shape[0]\n",
    "    ds = []\n",
    "    for i in range(sti.shape[0]):\n",
    "        for j in range(stj.shape[0]):\n",
    "            dist = spike_distance_python(sti[i].get_spikes_non_empty(), stj[j].get_spikes_non_empty(), sti[i].t_start, sti[j].t_end)\n",
    "            dist=np.mean(dist[1])\n",
    "            #print(dist)\n",
    "            if dist < 0:\n",
    "                print(\"El par de celulas tiene distancia {} en los trials ({}, {})\".format(dist,i,j))\n",
    "                continue\n",
    "            if np.abs(dist) > 100:\n",
    "                assert np.abs(dist) < 100\n",
    "                \n",
    "            ds.append(dist)\n",
    "            \n",
    "    ds = np.array(ds)    \n",
    "    return np.nanmean(ds[np.logical_not(np.logical_or(np.isnan(ds), np.isinf(ds)))])\n",
    "\n",
    "def compute_ISI_on_flat_pair_2(arg):\n",
    "#     sti = st[pair[0]]\n",
    "#     stj = st[pair[1]]\n",
    "    sti, stj = arg\n",
    "    assert sti.shape[0] == stj.shape[0]\n",
    "    ds = []\n",
    "    for i in range(sti.shape[0]):\n",
    "        for j in range(stj.shape[0]):\n",
    "            dist=isi_distance_python(sti[i].get_spikes_non_empty(), stj[j].get_spikes_non_empty(), sti[i].t_start, sti[j].t_end)\n",
    "            dist=np.mean(dist[1])\n",
    "            if dist < 0:\n",
    "                print(\"El par de celulas tiene distancia {} en los trials ({}, {})\".format(dist,i,j))\n",
    "                continue\n",
    "            ds.append(dist)\n",
    "            \n",
    "    ds = np.array(ds)\n",
    "    return np.nanmean(ds[np.logical_not(np.logical_or(np.isnan(ds), np.isinf(ds)))])"
   ]
  },
  {
   "cell_type": "code",
   "execution_count": 23,
   "id": "2ba0498d",
   "metadata": {
    "scrolled": false
   },
   "outputs": [
    {
     "name": "stderr",
     "output_type": "stream",
     "text": [
      "100%|████████████████████████████████████| 43365/43365 [06:22<00:00, 113.45it/s]\n",
      "100%|████████████████████████████████████| 43365/43365 [02:20<00:00, 309.66it/s]\n"
     ]
    },
    {
     "data": {
      "text/plain": [
       "((43365,), (43365,))"
      ]
     },
     "execution_count": 23,
     "metadata": {},
     "output_type": "execute_result"
    }
   ],
   "source": [
    "num_threads = 48\n",
    "\n",
    "def flat_unit_pairs(st):\n",
    "    flat_pairs = []\n",
    "    for i in range(len(st)):\n",
    "        for j in range(i + 1, len(st)):\n",
    "            flat_pairs.append((i, j))\n",
    "    return flat_pairs\n",
    "\n",
    "def compute_SPIKE_on_flat_pair(arg):\n",
    "#     sti = st[pair[0]]\n",
    "#     stj = st[pair[1]]\n",
    "    sti, stj = arg\n",
    "    assert sti.shape[0] == stj.shape[0]\n",
    "    ds = []\n",
    "    for i in range(sti.shape[0]):\n",
    "        for j in range(stj.shape[0]):\n",
    "            dist = pyspike.spike_distance([sti[i], stj[j]])\n",
    "            if dist < 0:\n",
    "                continue\n",
    "            if np.abs(dist) > 100:\n",
    "                print(dist)\n",
    "                assert np.abs(dist) < 100\n",
    "                \n",
    "            ds.append(pyspike.spike_distance([sti[i], stj[j]]))\n",
    "            \n",
    "    ds = np.array(ds)\n",
    "    assert ds[np.logical_or(np.isnan(ds), np.isinf(ds))].shape[0] == 0\n",
    "    return np.nanmean(ds[np.logical_not(np.logical_or(np.isnan(ds), np.isinf(ds)))])\n",
    "#     return np.average(ds)\n",
    "\n",
    "def compute_ISI_on_flat_pair(arg):\n",
    "#     sti = st[pair[0]]\n",
    "#     stj = st[pair[1]]\n",
    "    sti, stj = arg\n",
    "    assert sti.shape[0] == stj.shape[0]\n",
    "    ds = []\n",
    "    for i in range(sti.shape[0]):\n",
    "        for j in range(stj.shape[0]):\n",
    "            ds.append(pyspike.isi_distance([sti[i], stj[j]]))\n",
    "            \n",
    "    ds = np.array(ds)\n",
    "    assert ds[np.logical_or(np.isnan(ds), np.isinf(ds))].shape[0] == 0\n",
    "    return np.nanmean(ds[np.logical_not(np.logical_or(np.isnan(ds), np.isinf(ds)))])\n",
    "#     return np.average(ds)\n",
    "\n",
    "preload = False\n",
    "\n",
    "# Generate spike distance or load it\n",
    "if os.path.isfile('spike_dist.npy') and preload:\n",
    "    print('Loading spike dist...')\n",
    "    spike_dst = np.load('{}spike_dist.npy'.format(params['Output']))\n",
    "    print('Done!')\n",
    "else:\n",
    "    flat_units = flat_unit_pairs(spiketimes)\n",
    "    with mp.Pool(num_threads) as pool:\n",
    "        spike_dst_args = [(spiketimes[pair[0]], spiketimes[pair[1]]) for pair in flat_units]\n",
    "        spike_dst = list(tqdm(pool.imap(compute_SPIKE_on_flat_pair, spike_dst_args), total=len(spike_dst_args)))\n",
    "        spike_dst = np.asarray(spike_dst)\n",
    "#     spike_dst = np.asarray([compute_SPIKE_on_flat_pair(spiketimes[pair[0]], spiketimes[pair[1]]) for pair in tqdm(flat_units)])\n",
    "#     spike_dst = joblib.Parallel(n_jobs=4,verbose=1)(joblib.delayed(compute_SPIKE_on_flat_pair)(pair, spiketimes) for pair in tqdm(flat_units))\n",
    "    np.save('{}/spike_dist.npy'.format(cls_folder), spike_dst)\n",
    "\n",
    "# Generate isi distance or load it\n",
    "if os.path.isfile('{}isi_dist.npy'.format(exp_path)) and preload:\n",
    "    print('Loading isi dist...')\n",
    "    isi_dst = np.load('{}isi_dist.npy'.format(params['Output']))\n",
    "    print('Done!')\n",
    "else:\n",
    "    flat_units = flat_unit_pairs(spiketimes)\n",
    "    with mp.Pool(num_threads) as pool:\n",
    "        isi_dst_args = [(spiketimes[pair[0]], spiketimes[pair[1]]) for pair in flat_units]\n",
    "        isi_dst = list(tqdm(pool.imap(compute_ISI_on_flat_pair, isi_dst_args), total=len(isi_dst_args)))\n",
    "        isi_dst = np.asarray(isi_dst)\n",
    "#     isi_dst = np.asarray([compute_ISI_on_flat_pair(pair, spiketimes) for pair in tqdm(flat_units)])\n",
    "#     isi_dst = joblib.Parallel(n_jobs=4,verbose=1)(joblib.delayed(compute_ISI_on_flat_pair)(pair, spiketimes) for pair in tqdm(flat_units))\n",
    "    np.save('{}/isi_dist.npy'.format(cls_folder), isi_dst)\n",
    "\n",
    "spike_dst.shape, isi_dst.shape"
   ]
  },
  {
   "cell_type": "code",
   "execution_count": 24,
   "id": "cf4cc668",
   "metadata": {},
   "outputs": [],
   "source": [
    "n_cells=len(exp_unit)"
   ]
  },
  {
   "cell_type": "code",
   "execution_count": 25,
   "id": "48054aab",
   "metadata": {},
   "outputs": [
    {
     "name": "stdout",
     "output_type": "stream",
     "text": [
      "(0,) (0,)\n",
      "(0,) (0,)\n"
     ]
    }
   ],
   "source": [
    "print(spike_dst[np.isnan(spike_dst)].shape, spike_dst[np.isinf(spike_dst)].shape)\n",
    "print(isi_dst[np.isnan(isi_dst)].shape, isi_dst[np.isinf(isi_dst)].shape)"
   ]
  },
  {
   "cell_type": "code",
   "execution_count": 26,
   "id": "0817beb6",
   "metadata": {},
   "outputs": [],
   "source": [
    "    \n",
    "np.save('{}/chirp_psth.npy'.format(cls_folder), chirp_psth)\n",
    "np.save('{}/flash_psth.npy'.format(cls_folder), flash_psth)"
   ]
  },
  {
   "cell_type": "code",
   "execution_count": 27,
   "id": "2750d1db",
   "metadata": {},
   "outputs": [
    {
     "name": "stdout",
     "output_type": "stream",
     "text": [
      "Optimum clusters: 4\n"
     ]
    },
    {
     "data": {
      "image/png": "[encoded data removed]",
      "text/plain": [
       "<Figure size 432x288 with 1 Axes>"
      ]
     },
     "metadata": {
      "needs_background": "light"
     },
     "output_type": "display_data"
    }
   ],
   "source": [
    "sqr_spike_dst = squareform(spike_dst)\n",
    "sqr_isi_dst = squareform(isi_dst)\n",
    "\n",
    "ward_spike = cluster.hierarchy.linkage(spike_dst, method='ward')\n",
    "ward_isi = cluster.hierarchy.linkage(isi_dst, method='ward')\n",
    "\n",
    "min_qclust = 4\n",
    "max_qclust = 50\n",
    "\n",
    "ncls = np.arange(min_qclust, max_qclust, 1)\n",
    "metric_scores = np.zeros(ncls.shape[0])\n",
    "for i, t in enumerate(ncls):\n",
    "    cls_spike = cluster.hierarchy.fcluster(ward_spike, t=t, criterion='maxclust')\n",
    "    cls_isi = cluster.hierarchy.fcluster(ward_isi, t=t, criterion='maxclust')\n",
    "    metric_scores[i] = metrics.adjusted_mutual_info_score(cls_isi, cls_spike)\n",
    "    \n",
    "max_cls = np.argmax(metric_scores) + min_qclust\n",
    "fig, ax = plt.subplots()\n",
    "ax.plot(ncls, metric_scores)\n",
    "\n",
    "ax.axvline(max_cls, ymin=0, ymax=(np.max(metric_scores) - ax.get_ylim()[0]) / np.diff(ax.get_ylim()),\n",
    "           linestyle='--', color='gray')\n",
    "if max_cls not in list(ax.get_xticks()):\n",
    "    ax.set_xticks(list(ax.get_xticks()) + [max_cls])\n",
    "print('Optimum clusters: {}'.format(max_cls))\n",
    "fig.savefig('{}/mutual_inf.png'.format(cls_folder))"
   ]
  },
  {
   "cell_type": "code",
   "execution_count": 28,
   "id": "41f447d6",
   "metadata": {},
   "outputs": [
    {
     "data": {
      "image/png": "[encoded data removed]",
      "text/plain": [
       "<Figure size 432x288 with 1 Axes>"
      ]
     },
     "metadata": {
      "needs_background": "light"
     },
     "output_type": "display_data"
    }
   ],
   "source": [
    "n_cluster = max_cls\n",
    "cls_spike = cluster.hierarchy.fcluster(ward_spike, t=n_cluster, criterion='maxclust')\n",
    "fig = plt.figure()\n",
    "dn = cluster.hierarchy.dendrogram(ward_spike, p=np.unique(cls_spike).shape[0], distance_sort='ascending',\n",
    "                                  truncate_mode='lastp')\n",
    "plt.tight_layout()\n",
    "fig.savefig('{}/dendogram.png'.format(cls_folder))"
   ]
  },
  {
   "cell_type": "code",
   "execution_count": 29,
   "id": "d07e1df8",
   "metadata": {
    "scrolled": false
   },
   "outputs": [],
   "source": [
    "np.save('{}/exp_id.npy'.format(cls_folder), np.array(exp_unit))\n",
    "np.save('{}/clust_result.npy'.format(cls_folder), np.array(cls_spike))\n",
    "\n",
    "for i in range(1, max_cls + 1):\n",
    "    if os.path.isdir('{}/{}'.format(cls_folder, i)) == False:\n",
    "        os.mkdir('{}/{}'.format(cls_folder, i))\n",
    "    \n",
    "    cls_units = np.asarray(exp_unit, dtype='<U9')[cls_spike == i]\n",
    "    cls_chirp = chirp_psth[cls_spike == i]\n",
    "    cls_flash = flash_psth[cls_spike == i]\n",
    "\n",
    "    for (uid, chirp, flash) in zip(cls_units, cls_chirp, cls_flash):\n",
    "        fig, ax = plt.subplots(1, 2, figsize=(12, 4))\n",
    "        ax[0].plot(flash_time, flash)\n",
    "        ax[1].plot(chirp_time, chirp)\n",
    "\n",
    "        ax[0].set_title('{}, {} flash'.format(uid[0], uid[1]))\n",
    "        ax[1].set_title('{}, {} chirp'.format(uid[0], uid[1]))\n",
    "        \n",
    "        fig.savefig('{}/{}/{} {}.png'.format(cls_folder, i, uid[0], uid[1]))\n",
    "        \n",
    "        [_ax.clear() for _ax in ax]\n",
    "        fig.clf()\n",
    "        fig.clear()\n",
    "        plt.close()\n",
    "                \n",
    "    fig, ax = plt.subplots(1, 2, figsize=(12, 4))\n",
    "    ax[0].plot(flash_time, np.mean(cls_flash, axis=0))\n",
    "    ax[1].plot(chirp_time, np.mean(cls_chirp, axis=0))\n",
    "    ax[0].set_title('Mean flash')\n",
    "    ax[1].set_title('Mean chirp')\n",
    "    \n",
    "    fig.savefig('{}/{}/clust{}_mean_resp.png'.format(cls_folder, i, i))\n",
    "    \n",
    "    [_ax.clear() for _ax in ax]\n",
    "    fig.clf()\n",
    "    fig.clear()\n",
    "    plt.close()"
   ]
  },
  {
   "cell_type": "code",
   "execution_count": 30,
   "id": "0139aef1",
   "metadata": {},
   "outputs": [],
   "source": [
    "if os.path.isdir('{}/mean'.format(cls_folder)) == False:\n",
    "    os.mkdir('{}/mean'.format(cls_folder))\n",
    "for i in range(1, max_cls + 1):\n",
    "    shutil.copy('{}/{}/clust{}_mean_resp.png'.format(cls_folder, i, i), '{}/mean'.format(cls_folder))"
   ]
  },
  {
   "cell_type": "code",
   "execution_count": 31,
   "id": "5479758a",
   "metadata": {
    "scrolled": false
   },
   "outputs": [
    {
     "data": {
      "image/png": "[encoded data removed]",
      "text/plain": [
       "<Figure size 1152x288 with 13 Axes>"
      ]
     },
     "metadata": {
      "needs_background": "light"
     },
     "output_type": "display_data"
    }
   ],
   "source": [
    "import matplotlib.gridspec as gridspec\n",
    "plt.figure(figsize=(16,max_cls*1))\n",
    "\n",
    "plot_stims = [0,1]\n",
    "plot_widths = [1.2,0.8,3, 1]\n",
    "fs=12\n",
    "    \n",
    "\n",
    "gs = gridspec.GridSpec(max_cls, 4, width_ratios = plot_widths, wspace=0.1, hspace=0.1)\n",
    "for i in range(1,max_cls +1):\n",
    "    cls_units = np.asarray(exp_unit, dtype='<U9')[cls_spike == i]\n",
    "    cls_chirp = chirp_psth[cls_spike == i]\n",
    "    cls_flash = flash_psth[cls_spike == i]\n",
    "    flash_mean=0\n",
    "    chirp_mean=0\n",
    "    for (uid, chirp, flash) in zip(cls_units, cls_chirp, cls_flash):\n",
    "        flash_mean+=flash\n",
    "        chirp_mean+=chirp\n",
    "        \n",
    "        fig, ax = plt.subplots(1, 2, figsize=(12, 4))\n",
    "        ax[0].plot(flash_time, flash)\n",
    "        ax[1].plot(chirp_time, chirp)     \n",
    "        [_ax.clear() for _ax in ax]\n",
    "        fig.clf()\n",
    "        fig.clear()\n",
    "        plt.close()\n",
    "    flash_mean=flash_mean/len(cls_units)\n",
    "    chirp_mean=chirp_mean/len(cls_units)\n",
    "    ax = plt.subplot(gs[i-1,2])\n",
    "    ax.plot(chirp_time, chirp_mean)\n",
    "    plt.xticks(())\n",
    "    plt.yticks(())\n",
    "    ax.spines['top'].set_visible(False)\n",
    "    ax.spines['bottom'].set_visible(False)\n",
    "    ax.spines['left'].set_visible(False)\n",
    "    ax.spines['right'].set_visible(False)\n",
    "    ax = plt.subplot(gs[i-1,1])\n",
    "    ax.plot(flash_time, flash_mean)\n",
    "    plt.xticks(())\n",
    "    plt.yticks(())\n",
    "    ax.spines['top'].set_visible(False)\n",
    "    ax.spines['bottom'].set_visible(False)\n",
    "    ax.spines['left'].set_visible(False)\n",
    "    ax.spines['right'].set_visible(False)\n",
    "    ax = plt.subplot(gs[(max_cls-(i)),3])\n",
    "    ax.set_title(\"{:.2f}%\".format(100*(len(cls_units)/n_cells)), y=0.35)\n",
    "    plt.xticks(())\n",
    "    plt.yticks(())\n",
    "    ax.spines['top'].set_visible(False)\n",
    "    ax.spines['bottom'].set_visible(False)\n",
    "    ax.spines['left'].set_visible(False)\n",
    "    ax.spines['right'].set_visible(False)\n",
    "ax = plt.subplot(gs[:,0])\n",
    "p = ax.get_position()\n",
    "p.x1 = p.x1-0.02\n",
    "ax.set_position(p)\n",
    "with plt.rc_context({'lines.linewidth': 2, 'font.size':fs, 'axes.titleweight': 'bold'}):\n",
    "    dend = cluster.hierarchy.dendrogram(ward_spike, p=np.unique(cls_spike).shape[0], distance_sort='ascending',\n",
    "                                  truncate_mode='lastp',orientation='left')\n",
    "\n",
    "    \n",
    "    ax.set_xticks(())\n",
    "    ax.spines['top'].set_visible(False)\n",
    "    ax.spines['bottom'].set_visible(False)\n",
    "    ax.spines['left'].set_visible(False)\n",
    "    ax.spines['right'].set_visible(False)\n",
    "plt.savefig('{}/dend_flash_chirp.png'.format(cls_folder))"
   ]
  },
  {
   "cell_type": "code",
   "execution_count": 32,
   "id": "df742475",
   "metadata": {},
   "outputs": [
    {
     "data": {
      "image/png": "[encoded data removed]",
      "text/plain": [
       "<Figure size 432x288 with 1 Axes>"
      ]
     },
     "metadata": {
      "needs_background": "light"
     },
     "output_type": "display_data"
    }
   ],
   "source": [
    "from matplotlib.colors import ListedColormap\n",
    "fig, ax = plt.subplots()\n",
    "# ax.plot(np.array(list(chirp_psth.values()))[0])\n",
    "\n",
    "model = TSNE(n_components=2, random_state=0, perplexity=30)#,init='pca')\n",
    "proj = model.fit_transform(chirp_psth)\n",
    "\n",
    "n_flat_clusters = np.unique(cls_spike).shape[0]\n",
    "show_order = np.unique(cls_spike)[::-1] - 1\n",
    "\n",
    "ax.scatter(proj[:, 0], proj[:, 1], c=show_order[cls_spike - 1],\n",
    "           cmap=ListedColormap(sns.hls_palette(n_flat_clusters, l=0.6, s=0.6).as_hex()))\n",
    "fig.savefig('{}/tsne.png'.format(cls_folder))"
   ]
  },
  {
   "cell_type": "code",
   "execution_count": null,
   "id": "aebc850e",
   "metadata": {},
   "outputs": [],
   "source": []
  }
 ],
 "metadata": {
  "interpreter": {
   "hash": "767d51c1340bd893661ea55ea3124f6de3c7a262a8b4abca0554b478b1e2ff90"
  },
  "kernelspec": {
   "display_name": "Python 3 (ipykernel)",
   "language": "python",
   "name": "python3"
  },
  "language_info": {
   "codemirror_mode": {
    "name": "ipython",
    "version": 3
   },
   "file_extension": ".py",
   "mimetype": "text/x-python",
   "name": "python",
   "nbconvert_exporter": "python",
   "pygments_lexer": "ipython3",
   "version": "3.8.11"
  }
 },
 "nbformat": 4,
 "nbformat_minor": 5
}
